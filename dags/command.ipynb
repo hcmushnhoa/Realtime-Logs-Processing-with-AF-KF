{
 "cells": [
  {
   "cell_type": "code",
   "execution_count": 9,
   "id": "61433510",
   "metadata": {},
   "outputs": [
    {
     "name": "stdout",
     "output_type": "stream",
     "text": [
      "Collecting boto3\n",
      "  Downloading boto3-1.40.40-py3-none-any.whl.metadata (6.7 kB)\n",
      "Collecting botocore<1.41.0,>=1.40.40 (from boto3)\n",
      "  Downloading botocore-1.40.40-py3-none-any.whl.metadata (5.7 kB)\n",
      "Collecting jmespath<2.0.0,>=0.7.1 (from boto3)\n",
      "  Downloading jmespath-1.0.1-py3-none-any.whl.metadata (7.6 kB)\n",
      "Collecting s3transfer<0.15.0,>=0.14.0 (from boto3)\n",
      "  Downloading s3transfer-0.14.0-py3-none-any.whl.metadata (1.7 kB)\n",
      "Requirement already satisfied: python-dateutil<3.0.0,>=2.1 in /home/codespace/.local/lib/python3.12/site-packages (from botocore<1.41.0,>=1.40.40->boto3) (2.9.0.post0)\n",
      "Requirement already satisfied: urllib3!=2.2.0,<3,>=1.25.4 in /home/codespace/.local/lib/python3.12/site-packages (from botocore<1.41.0,>=1.40.40->boto3) (2.5.0)\n",
      "Requirement already satisfied: six>=1.5 in /home/codespace/.local/lib/python3.12/site-packages (from python-dateutil<3.0.0,>=2.1->botocore<1.41.0,>=1.40.40->boto3) (1.17.0)\n",
      "Downloading boto3-1.40.40-py3-none-any.whl (139 kB)\n",
      "Downloading botocore-1.40.40-py3-none-any.whl (14.0 MB)\n",
      "\u001b[2K   \u001b[90m━━━━━━━━━━━━━━━━━━━━━━━━━━━━━━━━━━━━━━━━\u001b[0m \u001b[32m14.0/14.0 MB\u001b[0m \u001b[31m55.4 MB/s\u001b[0m  \u001b[33m0:00:00\u001b[0m6m0:00:01\u001b[0m\n",
      "\u001b[?25hDownloading jmespath-1.0.1-py3-none-any.whl (20 kB)\n",
      "Downloading s3transfer-0.14.0-py3-none-any.whl (85 kB)\n",
      "Installing collected packages: jmespath, botocore, s3transfer, boto3\n",
      "\u001b[2K   \u001b[90m━━━━━━━━━━━━━━━━━━━━━━━━━━━━━━━━━━━━━━━━\u001b[0m \u001b[32m4/4\u001b[0m [boto3]32m2/4\u001b[0m [s3transfer]\n",
      "\u001b[1A\u001b[2KSuccessfully installed boto3-1.40.40 botocore-1.40.40 jmespath-1.0.1 s3transfer-0.14.0\n"
     ]
    }
   ],
   "source": [
    "!pip3 install boto3"
   ]
  },
  {
   "cell_type": "code",
   "execution_count": 10,
   "id": "f6a739d1",
   "metadata": {},
   "outputs": [
    {
     "name": "stdout",
     "output_type": "stream",
     "text": [
      "Collecting faker\n",
      "  Downloading faker-37.8.0-py3-none-any.whl.metadata (15 kB)\n",
      "Requirement already satisfied: tzdata in /home/codespace/.local/lib/python3.12/site-packages (from faker) (2025.2)\n",
      "Downloading faker-37.8.0-py3-none-any.whl (2.0 MB)\n",
      "\u001b[2K   \u001b[90m━━━━━━━━━━━━━━━━━━━━━━━━━━━━━━━━━━━━━━━━\u001b[0m \u001b[32m2.0/2.0 MB\u001b[0m \u001b[31m24.9 MB/s\u001b[0m  \u001b[33m0:00:00\u001b[0m\n",
      "\u001b[?25hInstalling collected packages: faker\n",
      "Successfully installed faker-37.8.0\n"
     ]
    }
   ],
   "source": [
    "!pip3 install faker"
   ]
  },
  {
   "cell_type": "code",
   "execution_count": 11,
   "id": "cc757acf",
   "metadata": {},
   "outputs": [
    {
     "name": "stdout",
     "output_type": "stream",
     "text": [
      "Collecting dotenv\n",
      "  Downloading dotenv-0.9.9-py2.py3-none-any.whl.metadata (279 bytes)\n",
      "Collecting python-dotenv (from dotenv)\n",
      "  Downloading python_dotenv-1.1.1-py3-none-any.whl.metadata (24 kB)\n",
      "Downloading dotenv-0.9.9-py2.py3-none-any.whl (1.9 kB)\n",
      "Downloading python_dotenv-1.1.1-py3-none-any.whl (20 kB)\n",
      "Installing collected packages: python-dotenv, dotenv\n",
      "\u001b[2K   \u001b[90m━━━━━━━━━━━━━━━━━━━━━━━━━━━━━━━━━━━━━━━━\u001b[0m \u001b[32m2/2\u001b[0m [dotenv]\n",
      "\u001b[1A\u001b[2KSuccessfully installed dotenv-0.9.9 python-dotenv-1.1.1\n"
     ]
    }
   ],
   "source": [
    "!pip3 install dotenv"
   ]
  },
  {
   "cell_type": "code",
   "execution_count": 1,
   "id": "072a0949",
   "metadata": {},
   "outputs": [],
   "source": [
    "import logging, json,os\n",
    "import boto3\n",
    "from dotenv import load_dotenv\n",
    "\n",
    "load_dotenv()\n",
    "aws_key = os.getenv(\"AWS_ACCESS_KEY_ID\")\n",
    "aws_secret = os.getenv(\"AWS_SECRET_ACCESS_KEY\")\n",
    "aws_region = os.getenv(\"AWS_DEFAULT_REGION\")\n",
    "logger=logging.getLogger(__name__)\n",
    "\n",
    "def get_secret(secret_name,region_name = aws_region):\n",
    "\n",
    "    # Create a Secrets Manager client\n",
    "    session = boto3.session.Session()\n",
    "    # create client for secretsmanager service to call api secrets manager\n",
    "    client = session.client(\n",
    "        service_name='secretsmanager',\n",
    "        region_name=region_name,\n",
    "        aws_access_key_id=aws_key,\n",
    "        aws_secret_access_key=aws_secret\n",
    "    )\n",
    "    try:\n",
    "        # SecretString or SecretBinary or Json string be saved with type dict{}\n",
    "        response = client.get_secret_value(SecretId=secret_name) \n",
    "        #return json.loads(response['SecretString'])\n",
    "    except Exception as e:\n",
    "        logger.error(f\"Secret retries error: {e}\")\n",
    "        raise\n",
    "\n",
    "    if 'SecretString' in response and response['SecretString'] is not None:\n",
    "        try:\n",
    "            return json.loads(response['SecretString'])\n",
    "        except json.JSONDecodeError:\n",
    "            return response['SecretString']\n",
    "    elif 'SecretBinary' in response and response['SecretBinary'] is not None:\n",
    "        return response['SecretBinary']  # bytes    \n",
    "    "
   ]
  },
  {
   "cell_type": "code",
   "execution_count": null,
   "id": "0f416069",
   "metadata": {},
   "outputs": [],
   "source": [
    "from faker import Faker"
   ]
  },
  {
   "cell_type": "code",
   "execution_count": 19,
   "id": "49d8c7a6",
   "metadata": {},
   "outputs": [
    {
     "data": {
      "text/plain": [
       "'3.186.32.209'"
      ]
     },
     "execution_count": 19,
     "metadata": {},
     "output_type": "execute_result"
    }
   ],
   "source": [
    "fake=Faker()\n",
    "fake.emoji()"
   ]
  },
  {
   "cell_type": "code",
   "execution_count": 2,
   "id": "58c48b88",
   "metadata": {},
   "outputs": [
    {
     "data": {
      "text/plain": [
       "{'KAFKA_SASL_USERNAME': 'C72PGPIKBHFIAIYP',\n",
       " 'KAFKA_SASL_PASSWORD': 'cflt7yXNFRDPLGNmPHFRFW5HcKonhFNCp4ZL8m3o4iHZr+NLy43qfsLOZDEzZfIg',\n",
       " 'KAFKA_BOOTSTRAP_SERVER': 'pkc-oxqxx9.us-east-1.aws.confluent.cloud:9092',\n",
       " 'ELASTICSEARCH_URL': 'https://62cb050b6d97435384114af717d4f8ba.us-east-1.aws.found.io:443',\n",
       " 'ELASTICSEARCH_API_KEY': 'WUpabG1Ka0IwLUlheFYyS2g0WWM6OU5BMUxEd0hfYzRsZTVFMzJMS2lKUQ=='}"
      ]
     },
     "execution_count": 2,
     "metadata": {},
     "output_type": "execute_result"
    }
   ],
   "source": [
    "get_secret('MWAA_Seccrets_V2')"
   ]
  }
 ],
 "metadata": {
  "kernelspec": {
   "display_name": "Python 3",
   "language": "python",
   "name": "python3"
  },
  "language_info": {
   "codemirror_mode": {
    "name": "ipython",
    "version": 3
   },
   "file_extension": ".py",
   "mimetype": "text/x-python",
   "name": "python",
   "nbconvert_exporter": "python",
   "pygments_lexer": "ipython3",
   "version": "3.12.1"
  }
 },
 "nbformat": 4,
 "nbformat_minor": 5
}
